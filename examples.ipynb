{
 "cells": [
  {
   "cell_type": "markdown",
   "id": "9759a17c",
   "metadata": {},
   "source": [
    "# BitChute Scraper Examples"
   ]
  },
  {
   "cell_type": "code",
   "execution_count": null,
   "id": "04a9be12",
   "metadata": {},
   "outputs": [],
   "source": []
  },
  {
   "cell_type": "code",
   "execution_count": 1,
   "id": "21b3bb8e",
   "metadata": {},
   "outputs": [
    {
     "ename": "NameError",
     "evalue": "name 'selection_map' is not defined",
     "output_type": "error",
     "traceback": [
      "\u001b[31m---------------------------------------------------------------------------\u001b[39m",
      "\u001b[31mNameError\u001b[39m                                 Traceback (most recent call last)",
      "\u001b[36mCell\u001b[39m\u001b[36m \u001b[39m\u001b[32mIn[1]\u001b[39m\u001b[32m, line 3\u001b[39m\n\u001b[32m      1\u001b[39m \u001b[38;5;28;01mimport\u001b[39;00m\u001b[38;5;250m \u001b[39m\u001b[34;01mbitchute\u001b[39;00m\u001b[38;5;250m \u001b[39m\u001b[38;5;28;01mas\u001b[39;00m\u001b[38;5;250m \u001b[39m\u001b[34;01mbc\u001b[39;00m\n\u001b[32m      2\u001b[39m api = bc.BitChuteAPI(max_workers=\u001b[32m3\u001b[39m)\n\u001b[32m----> \u001b[39m\u001b[32m3\u001b[39m df = \u001b[43mapi\u001b[49m\u001b[43m.\u001b[49m\u001b[43mget_trending_videos\u001b[49m\u001b[43m(\u001b[49m\u001b[33;43m'\u001b[39;49m\u001b[33;43mday\u001b[39;49m\u001b[33;43m'\u001b[39;49m\u001b[43m,\u001b[49m\u001b[43m \u001b[49m\u001b[43mlimit\u001b[49m\u001b[43m=\u001b[49m\u001b[32;43m5\u001b[39;49m\u001b[43m,\u001b[49m\u001b[43m \u001b[49m\u001b[43minclude_details\u001b[49m\u001b[43m=\u001b[49m\u001b[38;5;28;43;01mTrue\u001b[39;49;00m\u001b[43m,\u001b[49m\u001b[43m \u001b[49m\u001b[43mparallel_details\u001b[49m\u001b[43m=\u001b[49m\u001b[38;5;28;43;01mTrue\u001b[39;49;00m\u001b[43m)\u001b[49m\n\u001b[32m      4\u001b[39m df_with_thumbs = api.download_thumbnails(df, \u001b[33m\"\u001b[39m\u001b[33mtest_thumbs/\u001b[39m\u001b[33m\"\u001b[39m)\n\u001b[32m      5\u001b[39m \u001b[38;5;28mprint\u001b[39m(\u001b[33mf\u001b[39m\u001b[33m\"\u001b[39m\u001b[33mSuccess: \u001b[39m\u001b[38;5;132;01m{\u001b[39;00m\u001b[38;5;28mlen\u001b[39m(df_with_thumbs)\u001b[38;5;132;01m}\u001b[39;00m\u001b[33m videos, thumbnails: \u001b[39m\u001b[38;5;132;01m{\u001b[39;00m\u001b[33m'\u001b[39m\u001b[33mlocal_thumbnail_path\u001b[39m\u001b[33m'\u001b[39m\u001b[38;5;250m \u001b[39m\u001b[38;5;129;01min\u001b[39;00m\u001b[38;5;250m \u001b[39mdf_with_thumbs.columns\u001b[38;5;132;01m}\u001b[39;00m\u001b[33m\"\u001b[39m)\n",
      "\u001b[36mFile \u001b[39m\u001b[32m~/Documents/07_proGramming/bitchute-scraper/bitchute/core.py:369\u001b[39m, in \u001b[36mBitChuteAPI.get_trending_videos\u001b[39m\u001b[34m(self, timeframe, limit, per_page, include_details, parallel_details)\u001b[39m\n\u001b[32m    365\u001b[39m remaining = limit - total_retrieved\n\u001b[32m    366\u001b[39m page_limit = \u001b[38;5;28mmin\u001b[39m(per_page, remaining)\n\u001b[32m    368\u001b[39m payload = {\n\u001b[32m--> \u001b[39m\u001b[32m369\u001b[39m     \u001b[33m\"\u001b[39m\u001b[33mselection\u001b[39m\u001b[33m\"\u001b[39m: \u001b[43mselection_map\u001b[49m[timeframe],\n\u001b[32m    370\u001b[39m     \u001b[33m\"\u001b[39m\u001b[33moffset\u001b[39m\u001b[33m\"\u001b[39m: offset,\n\u001b[32m    371\u001b[39m     \u001b[33m\"\u001b[39m\u001b[33mlimit\u001b[39m\u001b[33m\"\u001b[39m: page_limit,\n\u001b[32m    372\u001b[39m     \u001b[33m\"\u001b[39m\u001b[33madvertisable\u001b[39m\u001b[33m\"\u001b[39m: \u001b[38;5;28;01mTrue\u001b[39;00m\n\u001b[32m    373\u001b[39m }\n\u001b[32m    375\u001b[39m data = \u001b[38;5;28mself\u001b[39m._make_request(\u001b[33m\"\u001b[39m\u001b[33mbeta/videos\u001b[39m\u001b[33m\"\u001b[39m, payload)\n\u001b[32m    376\u001b[39m \u001b[38;5;28;01mif\u001b[39;00m \u001b[38;5;129;01mnot\u001b[39;00m data \u001b[38;5;129;01mor\u001b[39;00m \u001b[33m'\u001b[39m\u001b[33mvideos\u001b[39m\u001b[33m'\u001b[39m \u001b[38;5;129;01mnot\u001b[39;00m \u001b[38;5;129;01min\u001b[39;00m data \u001b[38;5;129;01mor\u001b[39;00m \u001b[38;5;129;01mnot\u001b[39;00m data[\u001b[33m'\u001b[39m\u001b[33mvideos\u001b[39m\u001b[33m'\u001b[39m]:\n",
      "\u001b[31mNameError\u001b[39m: name 'selection_map' is not defined"
     ]
    }
   ],
   "source": [
    "import bitchute as bc\n",
    "api = bc.BitChuteAPI(max_workers=3)\n",
    "df = api.get_trending_videos('day', limit=5, include_details=True, parallel_details=True)\n",
    "df_with_thumbs = api.download_thumbnails(df, \"test_thumbs/\")\n",
    "print(f\"Success: {len(df_with_thumbs)} videos, thumbnails: {'local_thumbnail_path' in df_with_thumbs.columns}\")"
   ]
  },
  {
   "cell_type": "code",
   "execution_count": null,
   "id": "6d23774f",
   "metadata": {},
   "outputs": [],
   "source": []
  },
  {
   "cell_type": "code",
   "execution_count": null,
   "id": "53727a01",
   "metadata": {},
   "outputs": [],
   "source": []
  },
  {
   "cell_type": "code",
   "execution_count": null,
   "id": "dd770a84",
   "metadata": {},
   "outputs": [],
   "source": []
  },
  {
   "cell_type": "code",
   "execution_count": null,
   "id": "deddf3cb",
   "metadata": {},
   "outputs": [],
   "source": [
    "import bitchute as bc"
   ]
  },
  {
   "cell_type": "code",
   "execution_count": null,
   "id": "26e0646d",
   "metadata": {},
   "outputs": [],
   "source": [
    "# Initialize the BitChute API client\n",
    "api = bc.BitChuteAPI(verbose=False)"
   ]
  },
  {
   "cell_type": "markdown",
   "id": "e92393a7",
   "metadata": {},
   "source": [
    "## Get Platform Recommendations"
   ]
  },
  {
   "cell_type": "code",
   "execution_count": null,
   "id": "24206516",
   "metadata": {},
   "outputs": [],
   "source": [
    "# Trending Videos\n",
    "trending = api.get_trending_videos('day', limit=3, include_details=True) # Other options: 'week', 'month'. Defaults to 'day'.\n",
    "print(f\"Success! Got {len(trending)} videos\")\n",
    "print()\n",
    "trending.head(2)"
   ]
  },
  {
   "cell_type": "code",
   "execution_count": null,
   "id": "b6f5fc89",
   "metadata": {},
   "outputs": [],
   "source": [
    "# Popular Videos (now named \"Fresh\" on the frontend)\n",
    "popular = api.get_popular_videos(limit=500) # You can specify a limit, default is 100.\n",
    "print(f\"Success! Got {len(popular)} videos\")\n",
    "print()\n",
    "popular.head(2)"
   ]
  },
  {
   "cell_type": "code",
   "execution_count": null,
   "id": "b8c3f1af",
   "metadata": {},
   "outputs": [],
   "source": [
    "# All Videos\n",
    "all_videos = api.get_all_videos()\n",
    "print(f\"Success! Got {len(all_videos)} videos\")\n",
    "print()\n",
    "all_videos.head(2)"
   ]
  },
  {
   "cell_type": "code",
   "execution_count": null,
   "id": "4de7c74a",
   "metadata": {},
   "outputs": [],
   "source": [
    "# Trending Hashtags\n",
    "hashtags = api.get_trending_hashtags(limit=500)\n",
    "print(f\"Success! Got {len(hashtags)} hashtags\")\n",
    "print()\n",
    "hashtags.head(2)"
   ]
  },
  {
   "cell_type": "markdown",
   "id": "be34a3f7",
   "metadata": {},
   "source": [
    "## Search the BitChute Platform"
   ]
  },
  {
   "cell_type": "code",
   "execution_count": null,
   "id": "77468163",
   "metadata": {},
   "outputs": [],
   "source": [
    "# Search Videos\n",
    "\n",
    "search = api.search_videos('bitcoin', limit=50,sensitivity='normal', sort='new') \n",
    "# sensitivity alternatives : 'nsfw', 'nsfl' defaults to 'normal'\n",
    "# sort alternatives: 'views', 'old' defaults to 'new'\n",
    "print(f\"Success! Got {len(search)} videos\")\n",
    "print()\n",
    "search.head(2)"
   ]
  },
  {
   "cell_type": "code",
   "execution_count": null,
   "id": "172ba6e1",
   "metadata": {},
   "outputs": [],
   "source": [
    "# Search Channels\n",
    "\n",
    "channels = api.search_channels('truth', limit=50, sensitivity='normal') \n",
    "# sensitivity alternatives : 'nsfw', 'nsfl' defaults to 'normal'\n",
    "print(f\"Success! Got {len(channels)} channels\")\n",
    "print()\n",
    "channels.head(2)"
   ]
  },
  {
   "cell_type": "code",
   "execution_count": null,
   "id": "7772febc",
   "metadata": {},
   "outputs": [],
   "source": [
    "# Get channel information:\n",
    "# Get channel details\n",
    "channel = api.get_channel_details('R7juPfa5uBpC')\n",
    "print(f\"Channel: {channel.name}\")\n",
    "print(f\"Videos: {channel.video_count}, Views: {channel.view_count}\")\n",
    "print(f\"Last upload: {channel.last_video_published}\")\n",
    "\n",
    "channel.__dict__"
   ]
  },
  {
   "cell_type": "code",
   "execution_count": null,
   "id": "ef2c408e",
   "metadata": {},
   "outputs": [],
   "source": [
    "# Get channel videos\n",
    "videos = api.get_channel_videos('R7juPfa5uBpC', limit=100)\n",
    "videos"
   ]
  },
  {
   "cell_type": "code",
   "execution_count": null,
   "id": "71b6d4d8",
   "metadata": {},
   "outputs": [],
   "source": []
  },
  {
   "cell_type": "code",
   "execution_count": null,
   "id": "f30c0cde",
   "metadata": {},
   "outputs": [],
   "source": []
  },
  {
   "cell_type": "code",
   "execution_count": null,
   "id": "34b8e3fb",
   "metadata": {},
   "outputs": [],
   "source": [
    "# Updated bitchute_examples.py - Show new features\n",
    "\n",
    "import bitchute as bc\n",
    "import time\n",
    "from pathlib import Path\n",
    "\n",
    "# Initialize API with parallel processing enabled\n",
    "api = bc.BitChuteAPI(verbose=True, max_workers=5)\n",
    "\n",
    "print(\"🚀 BitChute API Examples - Enhanced Version\\n\")\n",
    "\n",
    "# Example 1: Basic trending videos (fast)\n",
    "print(\"1. Basic Trending Videos\")\n",
    "trending = api.get_trending_videos('day', limit=20)\n",
    "print(f\"   Retrieved {len(trending)} videos\")\n",
    "print(f\"   Columns: {list(trending.columns)[:5]}...\")\n",
    "print()\n",
    "\n",
    "# Example 2: Trending with parallel detail enrichment\n",
    "print(\"2. Trending Videos with Parallel Detail Enrichment\")\n",
    "start_time = time.time()\n",
    "detailed_trending = api.get_trending_videos(\n",
    "    'day', \n",
    "    limit=10, \n",
    "    include_details=True,\n",
    "    parallel_details=True  # New feature\n",
    ")\n",
    "elapsed_time = time.time() - start_time\n",
    "\n",
    "print(f\"   Retrieved {len(detailed_trending)} videos with details\")\n",
    "print(f\"   Time taken: {elapsed_time:.2f} seconds\")\n",
    "print(f\"   Has like counts: {'like_count' in detailed_trending.columns}\")\n",
    "print()\n",
    "\n",
    "# Example 3: Download thumbnails with deduplication\n",
    "print(\"3. Download Thumbnails\")\n",
    "if len(trending) > 0:\n",
    "    # Create thumbnails directory\n",
    "    thumb_dir = Path(\"examples_thumbnails\")\n",
    "    thumb_dir.mkdir(exist_ok=True)\n",
    "    \n",
    "    # Download thumbnails for first 5 videos\n",
    "    sample_videos = trending.head(5)\n",
    "    \n",
    "    start_time = time.time()\n",
    "    videos_with_thumbs = api.download_thumbnails(\n",
    "        sample_videos,\n",
    "        download_path=str(thumb_dir),\n",
    "        check_existing=True,\n",
    "        add_path_column=True\n",
    "    )\n",
    "    elapsed_time = time.time() - start_time\n",
    "    \n",
    "    print(f\"   Downloaded thumbnails for {len(videos_with_thumbs)} videos\")\n",
    "    print(f\"   Time taken: {elapsed_time:.2f} seconds\")\n",
    "    print(f\"   Has thumbnail paths: {'local_thumbnail_path' in videos_with_thumbs.columns}\")\n",
    "    \n",
    "    # Show downloaded files\n",
    "    downloaded = videos_with_thumbs[videos_with_thumbs['local_thumbnail_path'] != '']\n",
    "    print(f\"   Successfully downloaded: {len(downloaded)} files\")\n",
    "    for _, row in downloaded.iterrows():\n",
    "        file_path = Path(row['local_thumbnail_path'])\n",
    "        if file_path.exists():\n",
    "            file_size = file_path.stat().st_size / 1024  # KB\n",
    "            print(f\"     {file_path.name}: {file_size:.1f} KB\")\n",
    "print()\n",
    "\n",
    "# Example 4: Large dataset with all features\n",
    "print(\"4. Large Dataset Example\")\n",
    "start_time = time.time()\n",
    "\n",
    "# Get more videos\n",
    "all_videos = api.get_all_videos(limit=100)\n",
    "print(f\"   Retrieved {len(all_videos)} videos\")\n",
    "\n",
    "# Analyze the data\n",
    "from bitchute.utils import DataAnalyzer\n",
    "analyzer = DataAnalyzer()\n",
    "analysis = analyzer.analyze_videos(all_videos)\n",
    "\n",
    "print(f\"   Analysis results:\")\n",
    "if 'views' in analysis:\n",
    "    print(f\"     Total views: {analysis['views']['total']:,}\")\n",
    "    print(f\"     Average views: {analysis['views']['average']:,.0f}\")\n",
    "    print(f\"     Top channel: {list(analysis.get('top_channels', {}).keys())[0] if analysis.get('top_channels') else 'N/A'}\")\n",
    "\n",
    "elapsed_time = time.time() - start_time\n",
    "print(f\"   Total time: {elapsed_time:.2f} seconds\")\n",
    "print()\n",
    "\n",
    "# Example 5: Export data in multiple formats\n",
    "print(\"5. Data Export\")\n",
    "from bitchute.utils import DataExporter\n",
    "\n",
    "exporter = DataExporter()\n",
    "exported_files = exporter.export_data(\n",
    "    all_videos.head(50),  # Export first 50 for demo\n",
    "    \"bitchute_sample\",\n",
    "    formats=['csv', 'json']\n",
    ")\n",
    "\n",
    "for format_name, filepath in exported_files.items():\n",
    "    file_size = Path(filepath).stat().st_size / 1024  # KB\n",
    "    print(f\"   Exported {format_name.upper()}: {filepath} ({file_size:.1f} KB)\")\n",
    "print()\n",
    "\n",
    "# Example 6: Video search with details\n",
    "print(\"6. Video Search with Parallel Details\")\n",
    "search_results = api.search_videos(\n",
    "    'climate change',\n",
    "    limit=10,\n",
    "    include_details=True,\n",
    "    parallel_details=True\n",
    ")\n",
    "\n",
    "print(f\"   Found {len(search_results)} videos for 'climate change'\")\n",
    "if len(search_results) > 0:\n",
    "    top_result = search_results.iloc[0]\n",
    "    print(f\"   Top result: {top_result['title'][:50]}...\")\n",
    "    print(f\"   Views: {top_result.get('view_count', 'N/A')}\")\n",
    "    print(f\"   Channel: {top_result.get('channel_name', 'N/A')}\")\n",
    "print()\n",
    "\n",
    "# Example 7: API Statistics\n",
    "print(\"7. API Performance Statistics\")\n",
    "stats = api.get_api_stats()\n",
    "print(f\"   Requests made: {stats['requests_made']}\")\n",
    "print(f\"   Error rate: {stats['error_rate']:.2%}\")\n",
    "print(f\"   Has cached token: {stats['token_cached']}\")\n",
    "print()\n",
    "\n",
    "# Performance comparison example\n",
    "print(\"8. Performance Comparison: Sequential vs Parallel\")\n",
    "\n",
    "# Sequential enrichment\n",
    "start_time = time.time()\n",
    "sequential_videos = api.get_trending_videos(\n",
    "    'week', \n",
    "    limit=5, \n",
    "    include_details=True,\n",
    "    parallel_details=False\n",
    ")\n",
    "sequential_time = time.time() - start_time\n",
    "\n",
    "# Parallel enrichment  \n",
    "start_time = time.time()\n",
    "parallel_videos = api.get_trending_videos(\n",
    "    'week', \n",
    "    limit=5, \n",
    "    include_details=True,\n",
    "    parallel_details=True\n",
    ")\n",
    "parallel_time = time.time() - start_time\n",
    "\n",
    "print(f\"   Sequential (5 videos): {sequential_time:.2f}s\")\n",
    "print(f\"   Parallel (5 videos): {parallel_time:.2f}s\")\n",
    "print(f\"   Speedup: {sequential_time/parallel_time:.1f}x faster\")\n",
    "print()\n",
    "\n",
    "print(\"✅ All examples completed!\")\n",
    "\n",
    "# Cleanup\n",
    "api.cleanup()"
   ]
  }
 ],
 "metadata": {
  "kernelspec": {
   "display_name": ".venv",
   "language": "python",
   "name": "python3"
  },
  "language_info": {
   "codemirror_mode": {
    "name": "ipython",
    "version": 3
   },
   "file_extension": ".py",
   "mimetype": "text/x-python",
   "name": "python",
   "nbconvert_exporter": "python",
   "pygments_lexer": "ipython3",
   "version": "3.13.5"
  }
 },
 "nbformat": 4,
 "nbformat_minor": 5
}
