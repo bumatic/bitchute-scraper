{
 "cells": [
  {
   "cell_type": "markdown",
   "id": "9759a17c",
   "metadata": {},
   "source": [
    "# BitChute Scraper Examples"
   ]
  },
  {
   "cell_type": "code",
   "execution_count": null,
   "id": "04a9be12",
   "metadata": {},
   "outputs": [],
   "source": [
    "import bitchute as bc"
   ]
  },
  {
   "cell_type": "code",
   "execution_count": null,
   "id": "896ed8f7",
   "metadata": {},
   "outputs": [],
   "source": [
    "# Initialize the BitChute API client\n",
    "api = bc.BitChuteAPI(verbose=False)"
   ]
  },
  {
   "cell_type": "markdown",
   "id": "e92393a7",
   "metadata": {},
   "source": [
    "## Get Platform Recommendations"
   ]
  },
  {
   "cell_type": "code",
   "execution_count": null,
   "id": "63afd19f",
   "metadata": {},
   "outputs": [],
   "source": [
    "# Retrieve videos listed under \"Trending\"\n",
    "trending = api.get_trending_videos('day', include_details=False, limit=2)\n",
    "print(f\"Success! Got {len(trending)} videos\")\n",
    "print()\n",
    "trending.head(2)"
   ]
  },
  {
   "cell_type": "code",
   "execution_count": null,
   "id": "e289fa78",
   "metadata": {},
   "outputs": [],
   "source": [
    "# Retrieve videos listed under \"Fresh\"\n",
    "popular = api.get_popular_videos(include_details=False)\n",
    "print(f\"Success! Got {len(popular)} videos\")\n",
    "print()\n",
    "popular.head(2)"
   ]
  },
  {
   "cell_type": "code",
   "execution_count": null,
   "id": "24bbfd0d",
   "metadata": {},
   "outputs": [],
   "source": [
    "# Retrieve videos listed under \"Shorts\"\n",
    "short = api.get_short_videos()\n",
    "print(f\"Success! Got {len(short)} videos\")\n",
    "print()\n",
    "short.head(2)"
   ]
  },
  {
   "cell_type": "code",
   "execution_count": null,
   "id": "1d1fa1ea",
   "metadata": {},
   "outputs": [],
   "source": [
    "# Retrieve videos listed under \"Member Picked\"\n",
    "# CURRENTLY A POTENTIALLY INTERESTNIG DATAPOINT IS NOT INCLUDED IN THE RESULTS: date_liked. NEEDS ENHANCEMENT\n",
    "\n",
    "member_picked = api.get_member_picked_videos(include_details=False)\n",
    "print(f\"Success! Got {len(member_picked)} videos\")\n",
    "print()\n",
    "member_picked.head(2)"
   ]
  },
  {
   "cell_type": "code",
   "execution_count": null,
   "id": "b8c3f1af",
   "metadata": {},
   "outputs": [],
   "source": [
    "# Retrieve videos listed under \"all\"\n",
    "all_videos = api.get_all_videos(include_details=False)\n",
    "print(f\"Success! Got {len(all_videos)} videos\")\n",
    "print()\n",
    "all_videos.head(2)"
   ]
  },
  {
   "cell_type": "code",
   "execution_count": null,
   "id": "4de7c74a",
   "metadata": {},
   "outputs": [],
   "source": [
    "# Retrieve trending hashtags\n",
    "hashtags = api.get_trending_hashtags()\n",
    "print(f\"Success! Got {len(hashtags)} hashtags\")\n",
    "print()\n",
    "hashtags.head(2)"
   ]
  },
  {
   "cell_type": "markdown",
   "id": "be34a3f7",
   "metadata": {},
   "source": [
    "## Search the BitChute Platform"
   ]
  },
  {
   "cell_type": "code",
   "execution_count": null,
   "id": "77468163",
   "metadata": {},
   "outputs": [],
   "source": [
    "# Search Videos by Query\n",
    "#\n",
    "# Options for `sensitivity` and `sort`:\n",
    "# sensitivity: 'nsfw', 'nsfl' defaults to 'normal'\n",
    "# sort: 'views', 'old' defaults to 'new'\n",
    "\n",
    "search = api.search_videos('bitcoin', limit=10, sensitivity='normal', sort='new', include_details=True) \n",
    "print(f\"Success! Got {len(search)} videos\")\n",
    "print()\n",
    "search.head(2)"
   ]
  },
  {
   "cell_type": "code",
   "execution_count": null,
   "id": "ffb92ba3",
   "metadata": {},
   "outputs": [],
   "source": [
    "# Retrieve Videos by Hashtag\n",
    "videos = api.get_videos_by_hashtag('truth', limit=10, include_details=True)\n",
    "videos"
   ]
  },
  {
   "cell_type": "code",
   "execution_count": null,
   "id": "172ba6e1",
   "metadata": {},
   "outputs": [],
   "source": [
    "# Search Channels by Query\n",
    "#\n",
    "# Options for `sensitivity`:\n",
    "# sensitivity: 'nsfw', 'nsfl' defaults to 'normal'\n",
    "\n",
    "channels = api.search_channels('truth', limit=10, sensitivity='normal', include_details=True)\n",
    "print(f\"Success! Got {len(channels)} channels\")\n",
    "print()\n",
    "channels.head(2)"
   ]
  },
  {
   "cell_type": "markdown",
   "id": "405a3781",
   "metadata": {},
   "source": [
    "## Retrieve data for individual videos and channels\n",
    "### Video"
   ]
  },
  {
   "cell_type": "code",
   "execution_count": null,
   "id": "4af6aff2",
   "metadata": {},
   "outputs": [],
   "source": [
    "video = api.get_video_info('JO_qKQUkTrg')\n",
    "type(video)"
   ]
  },
  {
   "cell_type": "markdown",
   "id": "0673cde6",
   "metadata": {},
   "source": [
    "### Channel"
   ]
  },
  {
   "cell_type": "code",
   "execution_count": null,
   "id": "7772febc",
   "metadata": {},
   "outputs": [],
   "source": [
    "# Get channel information:\n",
    "# Get channel details\n",
    "channel = api.get_channel_info('UnweMhJQFhlW')\n",
    "type(channel)"
   ]
  },
  {
   "cell_type": "code",
   "execution_count": null,
   "id": "e50272bb",
   "metadata": {},
   "outputs": [],
   "source": [
    "# Get channel videos\n",
    "videos = api.get_channel_videos('UnweMhJQFhlW', limit=50000, include_details=True)\n",
    "print(f\"Success! Got {len(videos)} videos\")\n",
    "print()\n",
    "videos.head(2)"
   ]
  },
  {
   "cell_type": "markdown",
   "id": "843542d5",
   "metadata": {},
   "source": [
    "## Downloading Thumbnails and Videos Example"
   ]
  },
  {
   "cell_type": "code",
   "execution_count": null,
   "id": "ef2c408e",
   "metadata": {},
   "outputs": [],
   "source": [
    "api = bc.BitChuteAPI(\n",
    "        enable_downloads=True,\n",
    "        thumbnail_folder=\"thumbnails\",\n",
    "        video_folder=\"videos\",\n",
    "        force_redownload=False,\n",
    "        max_concurrent_downloads=3,\n",
    "        verbose=True\n",
    "    )\n",
    "\n",
    "# CAREFUL: This will download the latest videos from the channel, which can be a lot of data.\n",
    "videos = api.get_recent_videos(limit=4, include_details=True, download_thumbnails=True, download_videos=True)"
   ]
  }
 ],
 "metadata": {
  "kernelspec": {
   "display_name": ".venv",
   "language": "python",
   "name": "python3"
  },
  "language_info": {
   "codemirror_mode": {
    "name": "ipython",
    "version": 3
   },
   "file_extension": ".py",
   "mimetype": "text/x-python",
   "name": "python",
   "nbconvert_exporter": "python",
   "pygments_lexer": "ipython3",
   "version": "3.13.5"
  }
 },
 "nbformat": 4,
 "nbformat_minor": 5
}
