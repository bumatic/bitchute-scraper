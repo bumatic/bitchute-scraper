{
 "cells": [
  {
   "cell_type": "markdown",
   "id": "9759a17c",
   "metadata": {},
   "source": [
    "# BitChute Scraper Examples"
   ]
  },
  {
   "cell_type": "code",
   "execution_count": null,
   "id": "deddf3cb",
   "metadata": {},
   "outputs": [],
   "source": [
    "import bitchute as bc"
   ]
  },
  {
   "cell_type": "code",
   "execution_count": null,
   "id": "26e0646d",
   "metadata": {},
   "outputs": [],
   "source": [
    "# Initialize the BitChute API client\n",
    "api = bc.BitChuteAPI(verbose=False)"
   ]
  },
  {
   "cell_type": "markdown",
   "id": "e92393a7",
   "metadata": {},
   "source": [
    "## Get Platform Recommendations"
   ]
  },
  {
   "cell_type": "code",
   "execution_count": null,
   "id": "24206516",
   "metadata": {},
   "outputs": [],
   "source": [
    "# Trending Videos\n",
    "trending = api.get_trending_videos('day', limit=3, include_details=True) # Other options: 'week', 'month'. Defaults to 'day'.\n",
    "print(f\"Success! Got {len(trending)} videos\")\n",
    "print()\n",
    "trending.head(2)"
   ]
  },
  {
   "cell_type": "code",
   "execution_count": null,
   "id": "b6f5fc89",
   "metadata": {},
   "outputs": [],
   "source": [
    "# Popular Videos (now named \"Fresh\" on the frontend)\n",
    "popular = api.get_popular_videos(limit=500) # You can specify a limit, default is 100.\n",
    "print(f\"Success! Got {len(popular)} videos\")\n",
    "print()\n",
    "popular.head(2)"
   ]
  },
  {
   "cell_type": "code",
   "execution_count": null,
   "id": "b8c3f1af",
   "metadata": {},
   "outputs": [],
   "source": [
    "# All Videos\n",
    "all_videos = api.get_all_videos()\n",
    "print(f\"Success! Got {len(all_videos)} videos\")\n",
    "print()\n",
    "all_videos.head(2)"
   ]
  },
  {
   "cell_type": "code",
   "execution_count": null,
   "id": "4de7c74a",
   "metadata": {},
   "outputs": [],
   "source": [
    "# Trending Hashtags\n",
    "hashtags = api.get_trending_hashtags(limit=500)\n",
    "print(f\"Success! Got {len(hashtags)} hashtags\")\n",
    "print()\n",
    "hashtags.head(2)"
   ]
  },
  {
   "cell_type": "markdown",
   "id": "be34a3f7",
   "metadata": {},
   "source": [
    "## Search the BitChute Platform"
   ]
  },
  {
   "cell_type": "code",
   "execution_count": null,
   "id": "77468163",
   "metadata": {},
   "outputs": [],
   "source": [
    "# Search Videos\n",
    "\n",
    "search = api.search_videos('bitcoin', limit=50,sensitivity='normal', sort='new') \n",
    "# sensitivity alternatives : 'nsfw', 'nsfl' defaults to 'normal'\n",
    "# sort alternatives: 'views', 'old' defaults to 'new'\n",
    "print(f\"Success! Got {len(search)} videos\")\n",
    "print()\n",
    "search.head(2)"
   ]
  },
  {
   "cell_type": "code",
   "execution_count": null,
   "id": "172ba6e1",
   "metadata": {},
   "outputs": [],
   "source": [
    "# Search Channels\n",
    "\n",
    "channels = api.search_channels('truth', limit=50, sensitivity='normal') \n",
    "# sensitivity alternatives : 'nsfw', 'nsfl' defaults to 'normal'\n",
    "print(f\"Success! Got {len(channels)} channels\")\n",
    "print()\n",
    "channels.head(2)"
   ]
  },
  {
   "cell_type": "code",
   "execution_count": null,
   "id": "7772febc",
   "metadata": {},
   "outputs": [],
   "source": [
    "# Get channel information:\n",
    "# Get channel details\n",
    "channel = api.get_channel_details('R7juPfa5uBpC')\n",
    "print(f\"Channel: {channel.name}\")\n",
    "print(f\"Videos: {channel.video_count}, Views: {channel.view_count}\")\n",
    "print(f\"Last upload: {channel.last_video_published}\")\n",
    "\n",
    "channel.__dict__"
   ]
  },
  {
   "cell_type": "code",
   "execution_count": null,
   "id": "ef2c408e",
   "metadata": {},
   "outputs": [],
   "source": [
    "# Get channel videos\n",
    "videos = api.get_channel_videos('R7juPfa5uBpC', limit=100)\n",
    "videos"
   ]
  },
  {
   "cell_type": "code",
   "execution_count": null,
   "id": "71b6d4d8",
   "metadata": {},
   "outputs": [],
   "source": []
  }
 ],
 "metadata": {
  "kernelspec": {
   "display_name": ".venv",
   "language": "python",
   "name": "python3"
  },
  "language_info": {
   "codemirror_mode": {
    "name": "ipython",
    "version": 3
   },
   "file_extension": ".py",
   "mimetype": "text/x-python",
   "name": "python",
   "nbconvert_exporter": "python",
   "pygments_lexer": "ipython3",
   "version": "3.13.5"
  }
 },
 "nbformat": 4,
 "nbformat_minor": 5
}
